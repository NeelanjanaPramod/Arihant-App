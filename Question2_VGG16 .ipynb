{
  "nbformat": 4,
  "nbformat_minor": 0,
  "metadata": {
    "colab": {
      "name": "Question2_VGG16.ipynb",
      "provenance": []
    },
    "kernelspec": {
      "name": "python3",
      "display_name": "Python 3"
    }
  },
  "cells": [
    {
      "cell_type": "code",
      "metadata": {
        "id": "IlKi8uXT2j1l",
        "outputId": "0ef4c27f-5fcd-4bfc-ab5d-fb964fc136f8",
        "colab": {
          "base_uri": "https://localhost:8080/",
          "height": 35
        }
      },
      "source": [
        "from google.colab import drive\n",
        "drive.mount('/content/drive')"
      ],
      "execution_count": 1,
      "outputs": [
        {
          "output_type": "stream",
          "text": [
            "Mounted at /content/drive\n"
          ],
          "name": "stdout"
        }
      ]
    },
    {
      "cell_type": "code",
      "metadata": {
        "id": "HrJWC2hk2QNH"
      },
      "source": [
        "import shutil\n",
        "import os \n",
        "import math"
      ],
      "execution_count": 5,
      "outputs": []
    },
    {
      "cell_type": "code",
      "metadata": {
        "id": "q3KDJDxK22tF",
        "outputId": "08f675be-99c8-4947-bfb2-4b5780ac1ebe",
        "colab": {
          "base_uri": "https://localhost:8080/",
          "height": 121
        }
      },
      "source": [
        "parent_dir = '/content/drive/My Drive/DL/Data_for_DL'\n",
        "#Printing Category list to see if completely mounted and working\n",
        "os.chdir(parent_dir)\n",
        "category_list = list(filter(lambda x: os.path.isdir(x), os.listdir()))\n",
        "for category in category_list:\n",
        "  print(category)"
      ],
      "execution_count": 4,
      "outputs": [
        {
          "output_type": "stream",
          "text": [
            "rocket\n",
            "drone\n",
            "passenger-plane\n",
            "helicopter\n",
            "fighter-jet\n",
            "missile\n"
          ],
          "name": "stdout"
        }
      ]
    },
    {
      "cell_type": "code",
      "metadata": {
        "id": "EBc_x1CR3Mdt"
      },
      "source": [
        "#Create training and testing directories\n",
        "data_set_dirs= ['train','test']\n",
        "for dsdirs in data_set_dirs:\n",
        "  path = '/content/drive/My Drive/DL' + '/'+ dsdirs\n",
        "  os.mkdir( path,755 )"
      ],
      "execution_count": null,
      "outputs": []
    },
    {
      "cell_type": "code",
      "metadata": {
        "id": "hp3idVYF3yp4"
      },
      "source": [
        "train_prop = 0.7\n",
        "test_prop = (1-train_prop)\n",
        "\n",
        "#Defining function to split data of each category into trainning and testing set\n",
        "def create_dataset():\n",
        "  for ii,cat in enumerate(category_list):    \n",
        "    src_path = parent_dir + '/' + cat\n",
        "    dest_dir1 = '/content/drive/My Drive/DL'+'/train/'+str(ii)\n",
        "    dest_dir2 = '/content/drive/My Drive/DL'+'/test/'+str(ii)\n",
        "    \n",
        "    dest_dirs_list = [dest_dir1,dest_dir2]\n",
        "    for dirs in dest_dirs_list:\n",
        "      os.mkdir(dirs,755 )\n",
        "    \n",
        "    #get files' names list from respective directories\n",
        "    os.chdir(src_path)\n",
        "    files = [f for f in os.listdir() if os.path.isfile(f)]\n",
        "    \n",
        "    #get training and training files count\n",
        "    train_count = math.ceil(train_prop*len(files))\n",
        "    test_count = int((len(files)-train_count))\n",
        "     \n",
        "    \n",
        "    #get files to segragate for train and test data set\n",
        "    train_data_list = files[0: train_count]\n",
        "    test_data_list = files[train_count+1:]       \n",
        "  \n",
        "    for train_data in train_data_list:\n",
        "      train_path = src_path + '/' + train_data\n",
        "      shutil.copy(train_path,dest_dir1)\n",
        "    \n",
        "    for test_data in test_data_list:\n",
        "      test_path = src_path + '/' + test_data\n",
        "      shutil.copy(test_path,dest_dir2)\n",
        "#Calling Function      \n",
        "create_dataset()"
      ],
      "execution_count": null,
      "outputs": []
    },
    {
      "cell_type": "code",
      "metadata": {
        "id": "WY4ELIOU4HgD"
      },
      "source": [
        "import keras\n",
        "from keras.preprocessing.image import ImageDataGenerator\n",
        "from keras.models import Sequential\n",
        "from keras.layers import Flatten, Dense, Dropout\n",
        "from keras.optimizers import RMSprop\n",
        "import numpy as np\n",
        "from keras.utils.np_utils import to_categorical\n",
        "from keras.callbacks import ReduceLROnPlateau\n",
        "import matplotlib.pyplot as plt "
      ],
      "execution_count": 41,
      "outputs": []
    },
    {
      "cell_type": "code",
      "metadata": {
        "id": "7R6tRCUo41hQ"
      },
      "source": [
        "#Image augmentation on Training Data \n",
        "train_datagen = ImageDataGenerator(\n",
        "    rotation_range=40,\n",
        "    width_shift_range=0.2,\n",
        "    height_shift_range=0.2,\n",
        "    rescale=1/255,\n",
        "    shear_range=0.2,\n",
        "    zoom_range=0.2,\n",
        "    horizontal_flip=True,\n",
        "    )\n",
        "test_datagen = ImageDataGenerator(\n",
        "    rescale=1./255,\n",
        ")"
      ],
      "execution_count": 17,
      "outputs": []
    },
    {
      "cell_type": "code",
      "metadata": {
        "id": "oabc11Ht5Xxp",
        "outputId": "b2462a5b-1f73-4291-ce40-ab1940dfc1b2",
        "colab": {
          "base_uri": "https://localhost:8080/",
          "height": 52
        }
      },
      "source": [
        "train_generator = train_datagen.flow_from_directory(\n",
        "    '/content/drive/My Drive/DL/train',\n",
        "    target_size=(224,224),\n",
        "    batch_size=100,\n",
        "    class_mode=None,\n",
        "    shuffle = False\n",
        ")\n",
        "test_generator = test_datagen.flow_from_directory(\n",
        "    '/content/drive/My Drive/DL/test',\n",
        "    target_size=(224,224),\n",
        "    batch_size=100,\n",
        "    class_mode=None,\n",
        "    shuffle= False\n",
        ")\n"
      ],
      "execution_count": 9,
      "outputs": [
        {
          "output_type": "stream",
          "text": [
            "Found 5908 images belonging to 6 classes.\n",
            "Found 2528 images belonging to 6 classes.\n"
          ],
          "name": "stdout"
        }
      ]
    },
    {
      "cell_type": "code",
      "metadata": {
        "id": "aXkwpvDU5lFA"
      },
      "source": [
        "#Training Images loaded to VGG16 Model\n",
        "batch_size= 100\n",
        "vgg16 = keras.applications.VGG16(include_top=False, weights='imagenet')\n",
        "size= int(math.ceil(len(train_generator.filenames)  / batch_size)) \n",
        " \n",
        "vgg16_train = vgg16.predict_generator(train_data, size) \n",
        "np.save('/content/drive/My Drive/DL/vgg16_train.npy', vgg16_train)"
      ],
      "execution_count": null,
      "outputs": []
    },
    {
      "cell_type": "code",
      "metadata": {
        "id": "CTSgJtPu6pWO"
      },
      "source": [
        "#Testing Images loaded to VGG16 Model\n",
        "size2= int(math.ceil(len(test_generator.filenames)  / batch_size)) \n",
        " \n",
        "vgg16_test = vgg16.predict_generator(train_data, size2) \n",
        "np.save('/content/drive/My Drive/DL/vgg16_test.npy', vgg16_test)"
      ],
      "execution_count": null,
      "outputs": []
    },
    {
      "cell_type": "code",
      "metadata": {
        "id": "LlAyUpLV-rbK",
        "outputId": "3151b7df-879d-40a3-fffa-3057898e5b2f",
        "colab": {
          "base_uri": "https://localhost:8080/",
          "height": 52
        }
      },
      "source": [
        "#Loading the VGG16 Featured data\n",
        " \n",
        "# load the features saved earlier \n",
        "train_data = np.load('/content/drive/My Drive/DL/vgg16_train.npy') \n",
        "test_data = np.load('/content/drive/My Drive/DL/vgg16_test.npy') \n",
        "\n",
        "generator_1 = ImageDataGenerator(rescale = 1./255).flow_from_directory( \n",
        "   '/content/drive/My Drive/DL/train', \n",
        "   target_size=(224,224), \n",
        "   batch_size=100, \n",
        "   class_mode='categorical', \n",
        "   shuffle=False,) \n",
        "\n",
        "generator_2 = ImageDataGenerator(rescale = 1./255).flow_from_directory( \n",
        "   '/content/drive/My Drive/DL/test', \n",
        "   target_size=(224,224), \n",
        "   batch_size=100, \n",
        "   class_mode='categorical', \n",
        "   shuffle=False,) \n",
        "\n",
        "# get the class labels for the training data and test data in the original order \n",
        "train_labels = generator_1.classes \n",
        "test_labels = generator_2.classes\n",
        "\n",
        "# convert the training labels and test labels to categorical vectors \n",
        "train_labels = to_categorical(train_labels, num_classes=6)\n",
        "test_labels = to_categorical(test_labels, num_classes=6)"
      ],
      "execution_count": 65,
      "outputs": [
        {
          "output_type": "stream",
          "text": [
            "Found 5908 images belonging to 6 classes.\n",
            "Found 2528 images belonging to 6 classes.\n"
          ],
          "name": "stdout"
        }
      ]
    },
    {
      "cell_type": "code",
      "metadata": {
        "id": "X4sqcko_CE5v",
        "outputId": "eab2d654-05ba-49bc-8ae4-740ca0d0aa99",
        "colab": {
          "base_uri": "https://localhost:8080/",
          "height": 783
        }
      },
      "source": [
        "#Adding new layers, softmax and fitting and training data\n",
        "model = Sequential() \n",
        "model.add(Flatten(input_shape=train_data.shape[1:])) \n",
        "model.add(Dense(100, activation=keras.layers.LeakyReLU(alpha=0.3))) \n",
        "model.add(Dropout(0.5)) \n",
        "model.add(Dense(50, activation=keras.layers.LeakyReLU(alpha=0.3))) \n",
        "model.add(Dropout(0.3)) \n",
        "model.add(Dense(6, activation='softmax'))\n",
        "model.compile(loss='categorical_crossentropy',\n",
        "   optimizer=keras.optimizers.RMSprop(),\n",
        "   metrics=['acc'])\n",
        "\n",
        "history = model.fit(train_data, train_labels, \n",
        "   epochs=20,\n",
        "   batch_size=100, \n",
        "   validation_data=(test_data, test_labels),\n",
        "       callbacks=[\n",
        "        \n",
        "        ReduceLROnPlateau(patience=3)])\n",
        "model.save_weights('/content/drive/My Drive/DL/vgg_saved_weights.h5')\n",
        "(eval_loss, eval_accuracy) = model.evaluate( \n",
        "    test_data, test_labels, batch_size=64,     verbose=1)\n",
        "print(\"[INFO]Test data accuracy: {:.2f}\".format(eval_accuracy * 100)) \n",
        "print(\"[INFO]Test data Loss: {}\".format(eval_loss)) "
      ],
      "execution_count": 66,
      "outputs": [
        {
          "output_type": "stream",
          "text": [
            "Epoch 1/20\n",
            "60/60 [==============================] - 3s 54ms/step - loss: 3.4637 - acc: 0.3040 - val_loss: 3.3995 - val_acc: 0.2429\n",
            "Epoch 2/20\n",
            "60/60 [==============================] - 3s 51ms/step - loss: 2.0398 - acc: 0.4030 - val_loss: 1.7702 - val_acc: 0.5071\n",
            "Epoch 3/20\n",
            "60/60 [==============================] - 3s 51ms/step - loss: 1.7384 - acc: 0.4567 - val_loss: 2.3499 - val_acc: 0.3263\n",
            "Epoch 4/20\n",
            "60/60 [==============================] - 3s 51ms/step - loss: 1.5942 - acc: 0.4814 - val_loss: 2.4870 - val_acc: 0.4593\n",
            "Epoch 5/20\n",
            "60/60 [==============================] - 3s 51ms/step - loss: 1.4680 - acc: 0.5125 - val_loss: 1.9244 - val_acc: 0.4165\n",
            "Epoch 6/20\n",
            "60/60 [==============================] - 3s 52ms/step - loss: 1.0735 - acc: 0.6153 - val_loss: 1.0290 - val_acc: 0.6495\n",
            "Epoch 7/20\n",
            "60/60 [==============================] - 3s 52ms/step - loss: 0.8597 - acc: 0.6818 - val_loss: 1.0448 - val_acc: 0.6361\n",
            "Epoch 8/20\n",
            "60/60 [==============================] - 3s 52ms/step - loss: 0.8433 - acc: 0.6941 - val_loss: 1.0462 - val_acc: 0.6400\n",
            "Epoch 9/20\n",
            "60/60 [==============================] - 3s 52ms/step - loss: 0.7816 - acc: 0.7057 - val_loss: 1.0362 - val_acc: 0.6400\n",
            "Epoch 10/20\n",
            "60/60 [==============================] - 3s 54ms/step - loss: 0.7911 - acc: 0.6992 - val_loss: 1.0256 - val_acc: 0.6428\n",
            "Epoch 11/20\n",
            "60/60 [==============================] - 3s 54ms/step - loss: 0.7550 - acc: 0.7161 - val_loss: 1.0243 - val_acc: 0.6432\n",
            "Epoch 12/20\n",
            "60/60 [==============================] - 3s 52ms/step - loss: 0.7533 - acc: 0.7185 - val_loss: 1.0250 - val_acc: 0.6483\n",
            "Epoch 13/20\n",
            "60/60 [==============================] - 3s 51ms/step - loss: 0.7453 - acc: 0.7231 - val_loss: 1.0352 - val_acc: 0.6464\n",
            "Epoch 14/20\n",
            "60/60 [==============================] - 3s 53ms/step - loss: 0.7471 - acc: 0.7194 - val_loss: 1.0377 - val_acc: 0.6444\n",
            "Epoch 15/20\n",
            "60/60 [==============================] - 3s 58ms/step - loss: 0.7391 - acc: 0.7266 - val_loss: 1.0365 - val_acc: 0.6452\n",
            "Epoch 16/20\n",
            "60/60 [==============================] - 3s 54ms/step - loss: 0.7383 - acc: 0.7244 - val_loss: 1.0350 - val_acc: 0.6440\n",
            "Epoch 17/20\n",
            "60/60 [==============================] - 3s 52ms/step - loss: 0.7425 - acc: 0.7246 - val_loss: 1.0348 - val_acc: 0.6444\n",
            "Epoch 18/20\n",
            "60/60 [==============================] - 3s 51ms/step - loss: 0.7422 - acc: 0.7211 - val_loss: 1.0347 - val_acc: 0.6448\n",
            "Epoch 19/20\n",
            "60/60 [==============================] - 3s 52ms/step - loss: 0.7415 - acc: 0.7282 - val_loss: 1.0347 - val_acc: 0.6448\n",
            "Epoch 20/20\n",
            "60/60 [==============================] - 3s 52ms/step - loss: 0.7331 - acc: 0.7243 - val_loss: 1.0347 - val_acc: 0.6452\n",
            "40/40 [==============================] - 0s 11ms/step - loss: 1.0347 - acc: 0.6452\n",
            "[INFO]Test data accuracy: 64.52\n",
            "[INFO]Test data Loss: 1.0346603393554688\n"
          ],
          "name": "stdout"
        }
      ]
    },
    {
      "cell_type": "code",
      "metadata": {
        "id": "TIVwXsRuDgdF",
        "outputId": "69007bb4-971a-46b9-f0a7-8d5778e4d841",
        "colab": {
          "base_uri": "https://localhost:8080/",
          "height": 295
        }
      },
      "source": [
        "#Graphing our training and validation\n",
        "acc = history.history['acc']\n",
        "test_acc = history.history['val_acc']\n",
        "loss = history.history['loss']\n",
        "test_loss = history.history['val_loss']\n",
        "epochs = range(len(acc))\n",
        "plt.plot(epochs, acc, 'r', label='Training accuracy')\n",
        "plt.plot(epochs, test_acc, 'b', label='Test accuracy')\n",
        "plt.title('Training and Test accuracy')\n",
        "plt.ylabel('accuracy') \n",
        "plt.xlabel('epoch')\n",
        "plt.legend()\n",
        "plt.show()"
      ],
      "execution_count": 67,
      "outputs": [
        {
          "output_type": "display_data",
          "data": {
            "image/png": "[encoded data removed]",
            "text/plain": [
              "<Figure size 432x288 with 1 Axes>"
            ]
          },
          "metadata": {
            "tags": [],
            "needs_background": "light"
          }
        }
      ]
    },
    {
      "cell_type": "code",
      "metadata": {
        "id": "0gtPx9G7GQMe"
      },
      "source": [
        "from sklearn.metrics import confusion_matrix\n",
        "import pandas as pd\n",
        "import itertools\n",
        "categorical_test_labels = pd.DataFrame(test_labels).idxmax(axis=1)\n",
        "predictions = np.round(model.predict(test_data,0))\n",
        "categorical_predictions = pd.DataFrame(predictions).idxmax(axis=1)\n",
        "confusion_matrix= confusion_matrix(categorical_test_labels, categorical_predictions)\n",
        "\n",
        "#To get better visual of the confusion matrix:\n",
        "def plot_confusion_matrix(cm, classes,\n",
        "   normalize=False,\n",
        "   title='Confusion matrix',\n",
        "   cmap=plt.cm.Blues):\n",
        " \n",
        "#Add Normalization Option\n",
        " \n",
        "   if normalize:\n",
        "     cm = cm.astype('float') / cm.sum(axis=1)[:, np.newaxis]\n",
        "     print(\"Normalized confusion matrix\")\n",
        "   else:\n",
        "     print('Confusion matrix, without normalization')\n",
        " \n",
        "# print(cm)\n",
        " \n",
        "   plt.imshow(cm, interpolation='nearest', cmap=cmap)\n",
        "   plt.title(title)\n",
        "   plt.colorbar()\n",
        "   tick_marks = np.arange(len(classes))\n",
        "   plt.xticks(tick_marks, classes, rotation=45)\n",
        "   plt.yticks(tick_marks, classes)\n",
        " \n",
        "   fmt = '.2f' if normalize else 'd'\n",
        "   thresh = cm.max() / 2.\n",
        "   for i, j in itertools.product(range(cm.shape[0]), range(cm.shape[1])):\n",
        "      plt.text(j, i, format(cm[i, j], fmt), horizontalalignment=\"center\", color=\"white\" if cm[i, j] > thresh else \"black\")\n",
        " \n",
        "   plt.tight_layout()\n",
        "   plt.ylabel('True label')\n",
        "   plt.xlabel('Predicted label') "
      ],
      "execution_count": 70,
      "outputs": []
    },
    {
      "cell_type": "code",
      "metadata": {
        "id": "XZzgT58DJkRQ",
        "outputId": "e68a0273-db22-470a-badd-f12546343a2d",
        "colab": {
          "base_uri": "https://localhost:8080/",
          "height": 329
        }
      },
      "source": [
        "plot_confusion_matrix(confusion_matrix,['drone','fighter-jet','helicopter','missile','passenger_plane','rocket'],normalize= True)"
      ],
      "execution_count": 71,
      "outputs": [
        {
          "output_type": "stream",
          "text": [
            "Normalized confusion matrix\n"
          ],
          "name": "stdout"
        },
        {
          "output_type": "display_data",
          "data": {
            "image/png": "[encoded data removed]",
            "text/plain": [
              "<Figure size 432x288 with 2 Axes>"
            ]
          },
          "metadata": {
            "tags": [],
            "needs_background": "light"
          }
        }
      ]
    },
    {
      "cell_type": "code",
      "metadata": {
        "id": "ITosVieDLPi8"
      },
      "source": [
        ""
      ],
      "execution_count": null,
      "outputs": []
    }
  ]
}